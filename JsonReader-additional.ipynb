{
 "cells": [
  {
   "cell_type": "code",
   "execution_count": 1,
   "id": "bf02e146",
   "metadata": {},
   "outputs": [],
   "source": [
    "from getpass import getpass\n",
    "import pandas as pd\n",
    "from mysql.connector import connect, Error\n",
    "import warnings\n",
    "import requests\n",
    "import json\n",
    "import codecs\n",
    "import time\n",
    "import re\n",
    "import datetime"
   ]
  },
  {
   "cell_type": "code",
   "execution_count": 2,
   "id": "85c21b81",
   "metadata": {},
   "outputs": [],
   "source": [
    "#ignore warnings\n",
    "warnings.filterwarnings(\"ignore\")"
   ]
  },
  {
   "cell_type": "markdown",
   "id": "fb9ddbd7",
   "metadata": {},
   "source": [
    "# connet to server"
   ]
  },
  {
   "cell_type": "code",
   "execution_count": 3,
   "id": "024415ff",
   "metadata": {},
   "outputs": [
    {
     "name": "stdout",
     "output_type": "stream",
     "text": [
      "<mysql.connector.connection.MySQLConnection object at 0x7ff68684d100>\n"
     ]
    }
   ],
   "source": [
    "#connect to sever\n",
    "try:\n",
    "    conn = connect(\n",
    "        host=\"localhost\",\n",
    "        user=\"root\", #input(\"Enter username: \")\n",
    "        password=\"guoxiaochen1997\", #getpass(\"Enter password: \")\n",
    "        database=\"Masks\") #after first run, needs to be left blank on first run to create DB\n",
    "    cursor = conn.cursor()\n",
    "    print(conn)\n",
    "except Error as e:\n",
    "    print(e)"
   ]
  },
  {
   "cell_type": "markdown",
   "id": "097d53b7",
   "metadata": {},
   "source": [
    "# create tables"
   ]
  },
  {
   "cell_type": "code",
   "execution_count": 4,
   "id": "0a04ad0c-ae97-4a11-ba41-df752a6d0513",
   "metadata": {},
   "outputs": [],
   "source": [
    "#create tables\n",
    "SQL_DB = \"Masks\""
   ]
  },
  {
   "cell_type": "code",
   "execution_count": 5,
   "id": "76d57550",
   "metadata": {},
   "outputs": [
    {
     "name": "stdout",
     "output_type": "stream",
     "text": [
      "CREATE DATABASE IF NOT EXISTS Masks\n",
      "CREATE TABLE IF NOT EXISTS Masks.datedprices_amazon (asin CHAR(10) CHARACTER SET ascii NOT NULL,time BIGINT(15) NOT NULL,PRIMARY KEY (asin, time),price BIGINT(20));\n"
     ]
    }
   ],
   "source": [
    "#create Amazon price history table with transformed time\n",
    "def main():\n",
    "    \n",
    "    SQL_TABLE = \"datedprices_amazon\"\n",
    "    SQL_TABLE_DEF = \"(\" + \\\n",
    "            \"asin CHAR(10) CHARACTER SET ascii NOT NULL\" + \\\n",
    "            \",time BIGINT(15) NOT NULL\" + \\\n",
    "            \",PRIMARY KEY (asin, time)\" + \\\n",
    "            \",price BIGINT(20)\" + \\\n",
    "            \")\"\n",
    "\n",
    "    create_sql_table(SQL_TABLE, SQL_TABLE_DEF)\n",
    "   \n",
    "def create_sql_table(SQL_TABLE, SQL_TABLE_DEF):\n",
    "    try:\n",
    "        query = \"CREATE DATABASE IF NOT EXISTS \" + SQL_DB\n",
    "        print(query)\n",
    "        cursor.execute(query);\n",
    "        \n",
    "        query = \"CREATE TABLE IF NOT EXISTS \" + SQL_DB + \".\" + SQL_TABLE + \" \" + SQL_TABLE_DEF + \";\";\n",
    "        print(query)\n",
    "        cursor.execute(query)\n",
    "        return\n",
    "    except IOError as e:\n",
    "        print(e)\n",
    "\n",
    "if __name__ == \"__main__\":\n",
    "    main()"
   ]
  },
  {
   "cell_type": "code",
   "execution_count": 6,
   "id": "d4407262",
   "metadata": {},
   "outputs": [
    {
     "name": "stdout",
     "output_type": "stream",
     "text": [
      "CREATE DATABASE IF NOT EXISTS Masks\n",
      "CREATE TABLE IF NOT EXISTS Masks.datedprices_new (asin CHAR(10) CHARACTER SET ascii NOT NULL,time BIGINT(15) NOT NULL,PRIMARY KEY (asin, time),price BIGINT(20));\n"
     ]
    }
   ],
   "source": [
    "#create Marketplace New price history table with transformed time\n",
    "def main():\n",
    "    \n",
    "    SQL_TABLE = \"datedprices_new\"\n",
    "    SQL_TABLE_DEF = \"(\" + \\\n",
    "            \"asin CHAR(10) CHARACTER SET ascii NOT NULL\" + \\\n",
    "            \",time BIGINT(15) NOT NULL\" + \\\n",
    "            \",PRIMARY KEY (asin, time)\" + \\\n",
    "            \",price BIGINT(20)\" + \\\n",
    "            \")\"\n",
    "\n",
    "    create_sql_table(SQL_TABLE, SQL_TABLE_DEF)\n",
    "   \n",
    "def create_sql_table(SQL_TABLE, SQL_TABLE_DEF):\n",
    "    try:\n",
    "        query = \"CREATE DATABASE IF NOT EXISTS \" + SQL_DB\n",
    "        print(query)\n",
    "        cursor.execute(query);\n",
    "        \n",
    "        query = \"CREATE TABLE IF NOT EXISTS \" + SQL_DB + \".\" + SQL_TABLE + \" \" + SQL_TABLE_DEF + \";\";\n",
    "        print(query)\n",
    "        cursor.execute(query)\n",
    "        return\n",
    "    except IOError as e:\n",
    "        print(e)\n",
    "\n",
    "if __name__ == \"__main__\":\n",
    "    main()"
   ]
  },
  {
   "cell_type": "code",
   "execution_count": 7,
   "id": "90ebb004",
   "metadata": {},
   "outputs": [
    {
     "name": "stdout",
     "output_type": "stream",
     "text": [
      "CREATE DATABASE IF NOT EXISTS Masks\n",
      "CREATE TABLE IF NOT EXISTS Masks.datedprices_used (asin CHAR(10) CHARACTER SET ascii NOT NULL,time BIGINT(15) NOT NULL,PRIMARY KEY (asin, time),price BIGINT(20));\n"
     ]
    }
   ],
   "source": [
    "#create Marketplace Used price history table with transformed time\n",
    "def main():\n",
    "    \n",
    "    SQL_TABLE = \"datedprices_used\"\n",
    "    SQL_TABLE_DEF = \"(\" + \\\n",
    "            \"asin CHAR(10) CHARACTER SET ascii NOT NULL\" + \\\n",
    "            \",time BIGINT(15) NOT NULL\" + \\\n",
    "            \",PRIMARY KEY (asin, time)\" + \\\n",
    "            \",price BIGINT(20)\" + \\\n",
    "            \")\"\n",
    "\n",
    "    create_sql_table(SQL_TABLE, SQL_TABLE_DEF)\n",
    "   \n",
    "def create_sql_table(SQL_TABLE, SQL_TABLE_DEF):\n",
    "    try:\n",
    "        query = \"CREATE DATABASE IF NOT EXISTS \" + SQL_DB\n",
    "        print(query)\n",
    "        cursor.execute(query);\n",
    "        \n",
    "        query = \"CREATE TABLE IF NOT EXISTS \" + SQL_DB + \".\" + SQL_TABLE + \" \" + SQL_TABLE_DEF + \";\";\n",
    "        print(query)\n",
    "        cursor.execute(query)\n",
    "        return\n",
    "    except IOError as e:\n",
    "        print(e)\n",
    "\n",
    "if __name__ == \"__main__\":\n",
    "    main()"
   ]
  },
  {
   "cell_type": "code",
   "execution_count": 8,
   "id": "fda22442",
   "metadata": {},
   "outputs": [
    {
     "name": "stdout",
     "output_type": "stream",
     "text": [
      "CREATE DATABASE IF NOT EXISTS Masks\n",
      "CREATE TABLE IF NOT EXISTS Masks.datedsales_ranks (asin CHAR(10) CHARACTER SET ascii NOT NULL,category BIGINT(20) NOT NULL,time BIGINT(15) NOT NULL,PRIMARY KEY (asin, category, time),sales_rank BIGINT(10) DEFAULT NULL);\n"
     ]
    }
   ],
   "source": [
    "#create Sales Rank history table with transformed time\n",
    "def main():\n",
    "    \n",
    "    SQL_TABLE = \"datedsales_ranks\"\n",
    "    SQL_TABLE_DEF = \"(\" + \\\n",
    "            \"asin CHAR(10) CHARACTER SET ascii NOT NULL\" + \\\n",
    "            \",category BIGINT(20) NOT NULL\" + \\\n",
    "            \",time BIGINT(15) NOT NULL\" + \\\n",
    "            \",PRIMARY KEY (asin, category, time)\" + \\\n",
    "            \",sales_rank BIGINT(10) DEFAULT NULL\" + \\\n",
    "            \")\"\n",
    "    \n",
    "    create_sql_table(SQL_TABLE, SQL_TABLE_DEF)\n",
    "   \n",
    "def create_sql_table(SQL_TABLE, SQL_TABLE_DEF):\n",
    "    try:\n",
    "        query = \"CREATE DATABASE IF NOT EXISTS \" + SQL_DB\n",
    "        print(query)\n",
    "        cursor.execute(query);\n",
    "        \n",
    "        query = \"CREATE TABLE IF NOT EXISTS \" + SQL_DB + \".\" + SQL_TABLE + \" \" + SQL_TABLE_DEF + \";\";\n",
    "        print(query)\n",
    "        cursor.execute(query)\n",
    "        return\n",
    "    except IOError as e:\n",
    "        print(e)\n",
    "\n",
    "if __name__ == \"__main__\":\n",
    "    main()"
   ]
  },
  {
   "cell_type": "markdown",
   "id": "2c0e0be6",
   "metadata": {},
   "source": [
    "# extract data from exitsting tables"
   ]
  },
  {
   "cell_type": "code",
   "execution_count": 9,
   "id": "055a6898",
   "metadata": {},
   "outputs": [],
   "source": [
    "def convert(timestamp,method):\n",
    "    utctime = datetime.datetime.utcfromtimestamp(timestamp/1000)\n",
    "    utctime_week = utctime.isocalendar()[1]\n",
    "    date_year_month = str(utctime.year)+f\"{utctime.month:02}\"#year-month\n",
    "    date_year_month_day = date_year_month+f\"{utctime.day:02}\"#year-month-day\n",
    "    date_year_month_day_hour = date_year_month_day+f\"{utctime.hour:02}\" #year-month-day_hour\n",
    "    if utctime.year == utctime.isocalendar()[0] and utctime_week == 53:\n",
    "        date_year_week = str(utctime.year)+'52'\n",
    "    elif utctime.year != utctime.isocalendar()[0] and utctime_week == 53:\n",
    "        date_year_week = str(utctime.year)+'01'\n",
    "    else: date_year_week = str(utctime.year)+f\"{utctime_week:02}\"#year-week\n",
    "    switcher={\n",
    "        0:int(date_year_month),\n",
    "        1:int(date_year_month_day),\n",
    "        2:int(date_year_month_day_hour),\n",
    "        3:int(date_year_week)}\n",
    "    \n",
    "    return switcher.get(method)"
   ]
  },
  {
   "cell_type": "code",
   "execution_count": 10,
   "id": "89d9a3a7",
   "metadata": {},
   "outputs": [],
   "source": [
    "def price_datedprice(SQL_TABLE1,SQL_TABLE2):\n",
    "    try:\n",
    "        #get amazon price history from amazon_price\n",
    "        sql = \"SELECT asin,price,time from \" + SQL_TABLE1\n",
    "        data = pd.read_sql(sql,conn)\n",
    "        #transform the time into date as year-month-day\n",
    "        data[\"time\"] = data[\"time\"].apply(convert, method = 3)#year-week\n",
    "    \n",
    "        #change the name of column to match the column name of new table\n",
    "        data.columns = ['asin','price','time']\n",
    "    \n",
    "        # creating column list for insertion\n",
    "        cols = \"`,`\".join([str(i) for i in data.columns.tolist()])\n",
    "        \n",
    "        # Insert DataFrame recrds one by one.\n",
    "        for i,row in data.iterrows():\n",
    "            sql = \"INSERT IGNORE INTO \" +SQL_TABLE2+ \"(`\" +cols + \"`) VALUES (\" + \"%s,\"*(len(row)-1) + \"%s);\"\n",
    "            cursor.execute(sql, tuple(row))\n",
    "        conn.commit()\n",
    "        \n",
    "    except IOError as e:\n",
    "        print(e) "
   ]
  },
  {
   "cell_type": "code",
   "execution_count": 11,
   "id": "39e3cf99",
   "metadata": {
    "scrolled": true
   },
   "outputs": [],
   "source": [
    "price_datedprice(\"prices_amazon\",\"datedprices_amazon\")"
   ]
  },
  {
   "cell_type": "code",
   "execution_count": 12,
   "id": "e0254afc",
   "metadata": {},
   "outputs": [],
   "source": [
    "price_datedprice(\"prices_new\",\"datedprices_new\")"
   ]
  },
  {
   "cell_type": "code",
   "execution_count": 13,
   "id": "eb7e4c47",
   "metadata": {},
   "outputs": [],
   "source": [
    "price_datedprice(\"prices_used\",\"datedprices_used\")"
   ]
  },
  {
   "cell_type": "code",
   "execution_count": 14,
   "id": "ea41e0b2",
   "metadata": {},
   "outputs": [],
   "source": [
    "#salesrank\n",
    "def salesrank_datedsalesrank(SQL_TABLE1,SQL_TABLE2):\n",
    "    try:\n",
    "        #get amazon price history from amazon_price\n",
    "        sql = \"SELECT asin,sales_rank,category,time from \" + SQL_TABLE1\n",
    "        data = pd.read_sql(sql,conn)\n",
    "        #transform the time into date as year-month-day\n",
    "        data[\"time\"] = data[\"time\"].apply(convert, method = 3)#year-week\n",
    "    \n",
    "        #change the name of column to match the column name of new table\n",
    "        data.columns = ['asin','sales_rank','category','time']\n",
    "    \n",
    "        # creating column list for insertion\n",
    "        cols = \"`,`\".join([str(i) for i in data.columns.tolist()])\n",
    "        \n",
    "        # Insert DataFrame recrds one by one.\n",
    "        for i,row in data.iterrows():\n",
    "            sql = \"INSERT IGNORE INTO \" +SQL_TABLE2+ \"(`\" +cols + \"`) VALUES (\" + \"%s,\"*(len(row)-1) + \"%s);\"\n",
    "            cursor.execute(sql, tuple(row))\n",
    "        conn.commit()\n",
    "        \n",
    "    except IOError as e:\n",
    "        print(e) "
   ]
  },
  {
   "cell_type": "code",
   "execution_count": 15,
   "id": "95f4560c",
   "metadata": {},
   "outputs": [],
   "source": [
    "salesrank_datedsalesrank(\"sales_ranks\",\"datedsales_ranks\")"
   ]
  },
  {
   "cell_type": "code",
   "execution_count": null,
   "id": "b4f1502e",
   "metadata": {},
   "outputs": [],
   "source": []
  }
 ],
 "metadata": {
  "kernelspec": {
   "display_name": "Python 3",
   "language": "python",
   "name": "python3"
  },
  "language_info": {
   "codemirror_mode": {
    "name": "ipython",
    "version": 3
   },
   "file_extension": ".py",
   "mimetype": "text/x-python",
   "name": "python",
   "nbconvert_exporter": "python",
   "pygments_lexer": "ipython3",
   "version": "3.8.2"
  }
 },
 "nbformat": 4,
 "nbformat_minor": 5
}
